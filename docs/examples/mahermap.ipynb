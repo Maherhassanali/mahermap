{
 "cells": [
  {
   "cell_type": "code",
   "execution_count": 1,
   "metadata": {},
   "outputs": [
    {
     "ename": "TypeError",
     "evalue": "descriptor '__init__' of 'super' object needs an argument",
     "output_type": "error",
     "traceback": [
      "\u001b[1;31m---------------------------------------------------------------------------\u001b[0m",
      "\u001b[1;31mTypeError\u001b[0m                                 Traceback (most recent call last)",
      "Cell \u001b[1;32mIn[1], line 2\u001b[0m\n\u001b[0;32m      1\u001b[0m \u001b[39mimport\u001b[39;00m \u001b[39mmahermap\u001b[39;00m\n\u001b[1;32m----> 2\u001b[0m m\u001b[39m=\u001b[39mmahermap\u001b[39m.\u001b[39;49mMap()\n\u001b[0;32m      3\u001b[0m m\n",
      "File \u001b[1;32mh:\\geo\\maher\\mahermap\\mahermap\\mahermap.py:10\u001b[0m, in \u001b[0;36mMap.__init__\u001b[1;34m(self)\u001b[0m\n\u001b[0;32m      9\u001b[0m \u001b[39mdef\u001b[39;00m \u001b[39m__init__\u001b[39m(\u001b[39mself\u001b[39m):\n\u001b[1;32m---> 10\u001b[0m     \u001b[39msuper\u001b[39;49m\u001b[39m.\u001b[39;49m\u001b[39m__init__\u001b[39;49m()\n",
      "\u001b[1;31mTypeError\u001b[0m: descriptor '__init__' of 'super' object needs an argument"
     ]
    }
   ],
   "source": [
    "import mahermap\n",
    "m=mahermap.Map()\n",
    "m"
   ]
  }
 ],
 "metadata": {
  "kernelspec": {
   "display_name": "geo",
   "language": "python",
   "name": "python3"
  },
  "language_info": {
   "codemirror_mode": {
    "name": "ipython",
    "version": 3
   },
   "file_extension": ".py",
   "mimetype": "text/x-python",
   "name": "python",
   "nbconvert_exporter": "python",
   "pygments_lexer": "ipython3",
   "version": "3.9.15"
  },
  "orig_nbformat": 4
 },
 "nbformat": 4,
 "nbformat_minor": 2
}
